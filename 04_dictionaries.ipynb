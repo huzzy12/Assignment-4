{
  "nbformat": 4,
  "nbformat_minor": 0,
  "metadata": {
    "colab": {
      "provenance": [],
      "include_colab_link": true
    },
    "kernelspec": {
      "name": "python3",
      "display_name": "Python 3"
    },
    "language_info": {
      "name": "python"
    }
  },
  "cells": [
    {
      "cell_type": "markdown",
      "metadata": {
        "id": "view-in-github",
        "colab_type": "text"
      },
      "source": [
        "<a href=\"https://colab.research.google.com/github/huzzy12/Assignment-4/blob/main/04_dictionaries.ipynb\" target=\"_parent\"><img src=\"https://colab.research.google.com/assets/colab-badge.svg\" alt=\"Open In Colab\"/></a>"
      ]
    },
    {
      "cell_type": "code",
      "execution_count": 1,
      "metadata": {
        "colab": {
          "base_uri": "https://localhost:8080/"
        },
        "id": "yrCtdm0QD2la",
        "outputId": "b806f847-5128-4a3d-9f45-d6abf6d29b35"
      },
      "outputs": [
        {
          "output_type": "stream",
          "name": "stdout",
          "text": [
            "00_count_nums\n",
            "Enter a number (or 'Exit' to quit): 6\n",
            "{6: 1}\n",
            "Enter a number (or 'Exit' to quit): 5\n",
            "{6: 1, 5: 1}\n",
            "Enter a number (or 'Exit' to quit): 6\n",
            "{6: 2, 5: 1}\n",
            "Enter a number (or 'Exit' to quit): 54\n",
            "{6: 2, 5: 1, 54: 1}\n",
            "Enter a number (or 'Exit' to quit): 7\n",
            "{6: 2, 5: 1, 54: 1, 7: 1}\n",
            "Enter a number (or 'Exit' to quit): 6\n",
            "{6: 3, 5: 1, 54: 1, 7: 1}\n",
            "Enter a number (or 'Exit' to quit): Exit\n",
            "Invalid input. Please enter a number or 'Exit'.\n",
            "\n",
            " Number Counts:\n",
            "6 appears 3 times\n",
            "5 appears 1 times\n",
            "54 appears 1 times\n",
            "7 appears 1 times\n"
          ]
        }
      ],
      "source": [
        "print(\"00_count_nums\")\n",
        "\n",
        "def count_numbers():\n",
        "  count_dict = {}\n",
        "\n",
        "  while True:\n",
        "    num = input(\"Enter a number (or 'Exit' to quit): \")\n",
        "    if num.lower() == 'Exit':\n",
        "      break\n",
        "    if num.isdigit():\n",
        "      num = int(num)\n",
        "      count_dict[num] = count_dict.get(num, 0) + 1\n",
        "      print(count_dict)\n",
        "    else:\n",
        "      print(\"Invalid input. Please enter a number or 'Exit'.\")\n",
        "      return count_dict\n",
        "\n",
        "def display_counts(count_dict):\n",
        "  print(\"\\n Number Counts:\")\n",
        "  for key,value in count_dict.items():\n",
        "      print(f'{key} appears {value} times')\n",
        "\n",
        "\n",
        "if __name__ == \"__main__\":\n",
        "  count = count_numbers()\n",
        "  display_counts(count)\n",
        "\n"
      ]
    },
    {
      "cell_type": "code",
      "source": [
        "print(\"01_phonebook\")\n",
        "\n",
        "def add_contact(phonebook):\n",
        "  name = input(\"Enter contact name: \")\n",
        "  number = input(\"Enter contact number: \")\n",
        "\n",
        "  if name in phonebook:\n",
        "    print(f\"{name} already exists in the phonebook.\")\n",
        "  else:\n",
        "    phonebook[name] = number\n",
        "    print(f\"{name} added to the phonebook.\")\n",
        "\n",
        "def search_contact(phonebook):\n",
        "  name = input(\"Enter contact name to search: \")\n",
        "\n",
        "  if name in phonebook:\n",
        "    print(f\"{name}: {phonebook[name]}\")\n",
        "  else:\n",
        "    print(f\"{name} not found in the phonebook.\")\n",
        "\n",
        "def delete_contact(phonebook):\n",
        "  name = input(\"Enter contact name to delete: \")\n",
        "  if name in phonebook:\n",
        "    del phonebook[name]\n",
        "    print(f\"{name} deleted from the phonebook.\")\n",
        "  else:\n",
        "    print(f\"{name} not found in phonebook.\")\n",
        "\n",
        "\n",
        "def display_contact(phonebook):\n",
        "  if phonebook:\n",
        "    print(\"\\n Phonebook Contacts list\")\n",
        "    for name,number in phonebook.items():\n",
        "      print(f\"{name}: {number}\")\n",
        "  else:\n",
        "    print(\"Phonebook is empty.\")\n",
        "\n",
        "if __name__ == \"__main__\":\n",
        "  phonebook = {}\n",
        "\n",
        "  while True:\n",
        "    print(\"\\n Phonebook Menu\")\n",
        "    print(\"1. Add Contact\")\n",
        "    print(\"2. Search Contact\")\n",
        "    print(\"3. Delete Contact\")\n",
        "    print(\"4. Display Contacts\")\n",
        "    print(\"5. Exit\")\n",
        "\n",
        "    choice = input(\"Enter your choice (1-5): \")\n",
        "\n",
        "    if choice == '1':\n",
        "      add_contact(phonebook)\n",
        "    elif choice == '2':\n",
        "      search_contact(phonebook)\n",
        "    elif choice == '3':\n",
        "      delete_contact(phonebook)\n",
        "    elif choice == '4':\n",
        "      display_contact(phonebook)\n",
        "    elif choice == '5':\n",
        "      print(\"Exiting Phonebook. Goodbye!\")\n",
        "      break\n",
        "    else:\n",
        "      print(\"Invalid choice. Please enter a number between 1 to 5.\")"
      ],
      "metadata": {
        "colab": {
          "base_uri": "https://localhost:8080/"
        },
        "id": "KQxuDY6tEUcP",
        "outputId": "e7a25d24-81d7-4715-df16-7e70f2d1e448"
      },
      "execution_count": 2,
      "outputs": [
        {
          "output_type": "stream",
          "name": "stdout",
          "text": [
            "01_phonebook\n",
            "\n",
            " Phonebook Menu\n",
            "1. Add Contact\n",
            "2. Search Contact\n",
            "3. Delete Contact\n",
            "4. Display Contacts\n",
            "5. Exit\n",
            "Enter your choice (1-5): 1\n",
            "Enter contact name: JAmes\n",
            "Enter contact number: 00166628882\n",
            "JAmes added to the phonebook.\n",
            "\n",
            " Phonebook Menu\n",
            "1. Add Contact\n",
            "2. Search Contact\n",
            "3. Delete Contact\n",
            "4. Display Contacts\n",
            "5. Exit\n",
            "Enter your choice (1-5): 2\n",
            "Enter contact name to search: JAmes\n",
            "JAmes: 00166628882\n",
            "\n",
            " Phonebook Menu\n",
            "1. Add Contact\n",
            "2. Search Contact\n",
            "3. Delete Contact\n",
            "4. Display Contacts\n",
            "5. Exit\n",
            "Enter your choice (1-5): 4\n",
            "\n",
            " Phonebook Contacts list\n",
            "JAmes: 00166628882\n",
            "\n",
            " Phonebook Menu\n",
            "1. Add Contact\n",
            "2. Search Contact\n",
            "3. Delete Contact\n",
            "4. Display Contacts\n",
            "5. Exit\n",
            "Enter your choice (1-5): 5\n",
            "Exiting Phonebook. Goodbye!\n"
          ]
        }
      ]
    },
    {
      "cell_type": "code",
      "source": [
        "print(\"02_pop_up_shop\")\n",
        "\n",
        "def calculate_total_cost():\n",
        "  fruits_price = {\n",
        "      \"apple\":5.0,\n",
        "      \"mango\":15.0,\n",
        "      \"kiwi\":8.0,\n",
        "      \"pear\":12.0,\n",
        "      \"banana\":6.0,\n",
        "      \"orange\":10.0\n",
        "  }\n",
        "\n",
        "  total_cost = 0\n",
        "\n",
        "  for fruit,price in fruits_price.items():\n",
        "    while True:\n",
        "      try:\n",
        "        quantity = int(input(f'How many {fruit} do you want?: '))\n",
        "        if quantity < 0:\n",
        "          print(\"Invalid input. Please enter a non-negative number.\")\n",
        "          continue\n",
        "        total_cost += price * quantity\n",
        "        break\n",
        "      except ValueError:\n",
        "        print(\"Invalid input. Please enter a valid number.\")\n",
        "\n",
        "    print(f\"\\n Your total cost is: ${total_cost:.2f}\")\n",
        "\n",
        "if __name__ == \"__main__\":\n",
        "  calculate_total_cost()\n"
      ],
      "metadata": {
        "colab": {
          "base_uri": "https://localhost:8080/"
        },
        "id": "wD6Wel8KE5Ak",
        "outputId": "7faf1682-5ade-4211-84e6-8701ab826fdc"
      },
      "execution_count": 3,
      "outputs": [
        {
          "output_type": "stream",
          "name": "stdout",
          "text": [
            "02_pop_up_shop\n",
            "How many apple do you want?: 0\n",
            "\n",
            " Your total cost is: $0.00\n",
            "How many mango do you want?: 7\n",
            "\n",
            " Your total cost is: $105.00\n",
            "How many kiwi do you want?: 3\n",
            "\n",
            " Your total cost is: $129.00\n",
            "How many pear do you want?: 9\n",
            "\n",
            " Your total cost is: $237.00\n",
            "How many banana do you want?: 12\n",
            "\n",
            " Your total cost is: $309.00\n",
            "How many orange do you want?: 12\n",
            "\n",
            " Your total cost is: $429.00\n"
          ]
        }
      ]
    },
    {
      "cell_type": "code",
      "source": [
        "import hashlib\n",
        "\n",
        "print(\"03_powerful_passwords\")\n",
        "\n",
        "def hash_password(password):\n",
        "  return hashlib.sha256(password.encode()).hexdigest()\n",
        "\n",
        "stored_logins = {\n",
        "    \"user@example.com\":hash_password(\"password123\"),\n",
        "    \"admin@example.com\":hash_password(\"adminpass\")\n",
        "}\n",
        "\n",
        "def login(email,password):\n",
        "  if email in stored_logins:\n",
        "    return stored_logins[email] == hash_password(password)\n",
        "  return False\n",
        "\n",
        "\n",
        "if __name__ == \"__main__\":\n",
        "  email = input(\"Enter your email: \")\n",
        "  password = input(\"Enter your password: \")\n",
        "\n",
        "\n",
        "  if login(email,password):\n",
        "    print(\"Login successful!\")\n",
        "  else:\n",
        "    print(\"Invalid email or password.\")\n",
        "\n",
        "\n"
      ],
      "metadata": {
        "colab": {
          "base_uri": "https://localhost:8080/"
        },
        "id": "43AvgJciFLz9",
        "outputId": "591838f8-1ed9-4286-a797-13959f2d3780"
      },
      "execution_count": 4,
      "outputs": [
        {
          "output_type": "stream",
          "name": "stdout",
          "text": [
            "03_powerful_passwords\n",
            "Enter your email: 123@gmail.com\n",
            "Enter your password: retin542\n",
            "Invalid email or password.\n"
          ]
        }
      ]
    },
    {
      "cell_type": "code",
      "source": [],
      "metadata": {
        "id": "1swAcij2Fd4b"
      },
      "execution_count": null,
      "outputs": []
    }
  ]
}