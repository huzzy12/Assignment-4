{
  "nbformat": 4,
  "nbformat_minor": 0,
  "metadata": {
    "colab": {
      "provenance": [],
      "authorship_tag": "ABX9TyNv4XLv6LEYRC8Aj16GkcEJ",
      "include_colab_link": true
    },
    "kernelspec": {
      "name": "python3",
      "display_name": "Python 3"
    },
    "language_info": {
      "name": "python"
    }
  },
  "cells": [
    {
      "cell_type": "markdown",
      "metadata": {
        "id": "view-in-github",
        "colab_type": "text"
      },
      "source": [
        "<a href=\"https://colab.research.google.com/github/huzzy12/Assignment-4/blob/main/Hangman_Python_Project.ipynb\" target=\"_parent\"><img src=\"https://colab.research.google.com/assets/colab-badge.svg\" alt=\"Open In Colab\"/></a>"
      ]
    },
    {
      "cell_type": "code",
      "execution_count": 1,
      "metadata": {
        "colab": {
          "base_uri": "https://localhost:8080/"
        },
        "id": "L9Ct89EOUx-4",
        "outputId": "5c28dd2a-2fe4-456c-a835-afe1a126d926"
      },
      "outputs": [
        {
          "output_type": "stream",
          "name": "stdout",
          "text": [
            "You have 6 lives left and you have used these letters:  \n",
            "Current word:  - - - - - - - - - - -\n",
            "Guess a letter: python\n",
            "Invalid character. Please try again.\n",
            "You have 6 lives left and you have used these letters:  \n",
            "Current word:  - - - - - - - - - - -\n",
            "Guess a letter: programming\n",
            "Invalid character. Please try again.\n",
            "You have 6 lives left and you have used these letters:  \n",
            "Current word:  - - - - - - - - - - -\n",
            "Guess a letter: p\n",
            "You have 6 lives left and you have used these letters:  p\n",
            "Current word:  p - - - - - - - - - -\n",
            "Guess a letter: r\n",
            "You have 6 lives left and you have used these letters:  r p\n",
            "Current word:  p r - - r - - - - - -\n",
            "Guess a letter: m\n",
            "You have 6 lives left and you have used these letters:  m r p\n",
            "Current word:  p r - - r - m m - - -\n",
            "Guess a letter: o\n",
            "You have 6 lives left and you have used these letters:  o m r p\n",
            "Current word:  p r o - r - m m - - -\n",
            "Guess a letter: g\n",
            "You have 6 lives left and you have used these letters:  m o r p g\n",
            "Current word:  p r o g r - m m - - g\n",
            "Guess a letter: i\n",
            "You have 6 lives left and you have used these letters:  i m o r p g\n",
            "Current word:  p r o g r - m m i - g\n",
            "Guess a letter: n\n",
            "You have 6 lives left and you have used these letters:  n i m o r p g\n",
            "Current word:  p r o g r - m m i n g\n",
            "Guess a letter: a\n",
            "You guessed the word programming !!\n"
          ]
        }
      ],
      "source": [
        "# prompt: Build the famous Hangman Python Project helping me learn how to work with dictionaries, lists, nested if statements, the string and random Python modules.\n",
        "\n",
        "import random\n",
        "\n",
        "def hangman():\n",
        "    words = [\"python\", \"javascript\", \"programming\", \"computer\", \"science\", \"algorithm\", \"data\"]\n",
        "    word = random.choice(words)\n",
        "    word_letters = set(word)  # letters in the word\n",
        "    alphabet = set(chr(x) for x in range(ord('a'), ord('z') + 1))\n",
        "    used_letters = set()  # what the user has guessed\n",
        "\n",
        "    lives = 6\n",
        "\n",
        "    # getting user input\n",
        "    while len(word_letters) > 0 and lives > 0:\n",
        "        # letters used\n",
        "        # ' '.join(['a', 'b', 'cd']) --> 'a b cd'\n",
        "        print('You have', lives, 'lives left and you have used these letters: ', ' '.join(used_letters))\n",
        "\n",
        "        # current word (ie p - - - o n)\n",
        "        word_list = [letter if letter in used_letters else '-' for letter in word]\n",
        "        print('Current word: ', ' '.join(word_list))\n",
        "\n",
        "        user_letter = input('Guess a letter: ').lower()\n",
        "        if user_letter in alphabet - used_letters:\n",
        "            used_letters.add(user_letter)\n",
        "            if user_letter in word_letters:\n",
        "                word_letters.remove(user_letter)\n",
        "            else:\n",
        "                lives = lives - 1  # takes away a life if wrong\n",
        "                print('Letter is not in word.')\n",
        "\n",
        "        elif user_letter in used_letters:\n",
        "            print('You have already used that character. Please try again.')\n",
        "\n",
        "        else:\n",
        "            print('Invalid character. Please try again.')\n",
        "\n",
        "    # gets here when len(word_letters) == 0 OR lives == 0\n",
        "    if lives == 0:\n",
        "        print('You died, sorry. The word was', word)\n",
        "    else:\n",
        "        print('You guessed the word', word, '!!')\n",
        "\n",
        "\n",
        "hangman()\n"
      ]
    }
  ]
}