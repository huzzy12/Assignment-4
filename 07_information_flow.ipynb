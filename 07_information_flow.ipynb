{
  "nbformat": 4,
  "nbformat_minor": 0,
  "metadata": {
    "colab": {
      "provenance": [],
      "authorship_tag": "ABX9TyMANjRQ8JCd79Xa7ELTH+zc",
      "include_colab_link": true
    },
    "kernelspec": {
      "name": "python3",
      "display_name": "Python 3"
    },
    "language_info": {
      "name": "python"
    }
  },
  "cells": [
    {
      "cell_type": "markdown",
      "metadata": {
        "id": "view-in-github",
        "colab_type": "text"
      },
      "source": [
        "<a href=\"https://colab.research.google.com/github/huzzy12/Assignment-4/blob/main/07_information_flow.ipynb\" target=\"_parent\"><img src=\"https://colab.research.google.com/assets/colab-badge.svg\" alt=\"Open In Colab\"/></a>"
      ]
    },
    {
      "cell_type": "code",
      "execution_count": 2,
      "metadata": {
        "colab": {
          "base_uri": "https://localhost:8080/"
        },
        "id": "IRdHK77mAmMM",
        "outputId": "416451e0-9db9-4c5e-e2f5-04a62aeb66c1"
      },
      "outputs": [
        {
          "output_type": "stream",
          "name": "stdout",
          "text": [
            "How old is this person?: 177\n",
            "True\n"
          ]
        }
      ],
      "source": [
        "ADULT_AGE : int = 18 # U.S. age\n",
        "\n",
        "def is_adult(age: int):\n",
        "    if age >= ADULT_AGE:\n",
        "        return True\n",
        "\n",
        "    return False\n",
        "\n",
        "########## No need to edit code beyond this point :) ##########\n",
        "\n",
        "def main():\n",
        "    age : str = int(input(\"How old is this person?: \"))\n",
        "    print(is_adult(age))\n",
        "\n",
        "\n",
        "if __name__ == \"__main__\":\n",
        "    main()"
      ]
    },
    {
      "cell_type": "code",
      "source": [
        "def main():\n",
        "    name : str = input(\"What's your name? \")\n",
        "    print(greet(name))\n",
        "\n",
        "# There is no need to edit code beyond this point\n",
        "\n",
        "def greet(name):\n",
        "    return \"Greetings \" + name + \"!\"\n",
        "\n",
        "if __name__ == '__main__':\n",
        "    main()"
      ],
      "metadata": {
        "colab": {
          "base_uri": "https://localhost:8080/"
        },
        "id": "7-z-4eYxByaQ",
        "outputId": "b4fbb987-cba8-40c0-cfc9-4c598127e749"
      },
      "execution_count": 3,
      "outputs": [
        {
          "output_type": "stream",
          "name": "stdout",
          "text": [
            "What's your name? Huzaifa\n",
            "Greetings Huzaifa!\n"
          ]
        }
      ]
    },
    {
      "cell_type": "code",
      "source": [
        "ADULT_AGE : int = 18 # U.S. age\n",
        "\n",
        "def is_adult(age: int):\n",
        "    if age >= ADULT_AGE:\n",
        "        return True\n",
        "\n",
        "    return False\n",
        "\n",
        "def main():\n",
        "    age : str = int(input(\"How old is this person?: \"))\n",
        "    print(is_adult(age))\n",
        "\n",
        "\n",
        "if __name__ == \"__main__\":\n",
        "    main()\n",
        "def main():\n",
        "    name : str = input(\"What's your name? \")\n",
        "    print(greet(name))\n",
        "\n",
        "# There is no need to edit code beyond this point\n",
        "\n",
        "def greet(name):\n",
        "    return \"Greetings \" + name + \"!\"\n",
        "\n",
        "if __name__ == '__main__':\n",
        "    main()\n",
        "\n",
        "def in_range(n, low, high):\n",
        "    \"\"\" Returns True if n is between low and high, inclusive.\n",
        "        high is guaranteed to be greater than low.\n",
        "    \"\"\"\n",
        "    return low <= n <= high\n"
      ],
      "metadata": {
        "colab": {
          "base_uri": "https://localhost:8080/"
        },
        "id": "V8L3-V25B2VM",
        "outputId": "2e3e8e66-bbf0-4c15-d924-d691dbf4ce8f"
      },
      "execution_count": 5,
      "outputs": [
        {
          "output_type": "stream",
          "name": "stdout",
          "text": [
            "How old is this person?: 12\n",
            "False\n",
            "What's your name? aaa\n",
            "Greetings aaa!\n"
          ]
        }
      ]
    },
    {
      "cell_type": "code",
      "source": [
        "def main():\n",
        "\tfruit : str = input(\"Enter a fruit: \")\n",
        "\tstock = num_in_stock(fruit)\n",
        "\tif stock == 0:\n",
        "\t\tprint(\"This fruit is not in stock.\")\n",
        "\telse:\n",
        "\t\tprint(\"This fruit is in stock! Here is how many:\")\n",
        "\t\tprint(stock)\n",
        "\n",
        "def num_in_stock(fruit):\n",
        "\t\"\"\"\n",
        "\tThis function returns the number of fruit Sophia has in stock.\n",
        "\t\"\"\"\n",
        "\tif fruit == 'apple':\n",
        "\t\treturn 2\n",
        "\tif fruit == 'durian':\n",
        "\t\treturn 4\n",
        "\tif fruit == 'pear':\n",
        "\t\treturn 1000\n",
        "\telse:\n",
        "\t\t# this fruit is not in stock.\n",
        "\t\treturn 0\n",
        "\n",
        "\n",
        "if __name__ == '__main__':\n",
        "    main()"
      ],
      "metadata": {
        "colab": {
          "base_uri": "https://localhost:8080/"
        },
        "id": "stfrNaKICOZP",
        "outputId": "c7abed71-e5da-4c93-da12-3eb8970d8ed7"
      },
      "execution_count": 6,
      "outputs": [
        {
          "output_type": "stream",
          "name": "stdout",
          "text": [
            "Enter a fruit: mango\n",
            "This fruit is not in stock.\n"
          ]
        }
      ]
    },
    {
      "cell_type": "code",
      "source": [
        "def get_user_data():\n",
        "    first_name = input(\"What is your first name?: \")\n",
        "    last_name = input(\"What is your last name?: \")\n",
        "    email = input(\"What is your email address?: \")\n",
        "    return first_name, last_name, email\n",
        "\n",
        "def main():\n",
        "    user_data = get_user_data()\n",
        "    print(\"Received the following user data:\", user_data)\n",
        "\n",
        "if __name__ == \"__main__\":\n",
        "    main()\n"
      ],
      "metadata": {
        "colab": {
          "base_uri": "https://localhost:8080/"
        },
        "id": "leMZNXJECbdz",
        "outputId": "41e84848-eca1-4d8c-83be-a37a0dbfaf92"
      },
      "execution_count": 8,
      "outputs": [
        {
          "output_type": "stream",
          "name": "stdout",
          "text": [
            "What is your first name?: Huzzy\n",
            "What is your last name?: Madni\n",
            "What is your email address?: huzzy1@email.com\n",
            "Received the following user data: ('Huzzy', 'Madni', 'huzzy1@email.com')\n"
          ]
        }
      ]
    },
    {
      "cell_type": "code",
      "source": [
        "def subtract_seven(num):\n",
        "    return num - 7\n",
        "\n",
        "def main():\n",
        "    number = int(input(\"Enter a number: \"))\n",
        "    result = subtract_seven(number)\n",
        "    print(f\"The result of subtracting 7 from {number} is {result}\")\n",
        "\n",
        "if __name__ == \"__main__\":\n",
        "    main()\n"
      ],
      "metadata": {
        "colab": {
          "base_uri": "https://localhost:8080/"
        },
        "id": "l0GRwymICykR",
        "outputId": "2d42f617-62a3-4562-fe2b-9da5ba796338"
      },
      "execution_count": 10,
      "outputs": [
        {
          "output_type": "stream",
          "name": "stdout",
          "text": [
            "Enter a number: 12\n",
            "The result of subtracting 7 from 12 is 5\n"
          ]
        }
      ]
    }
  ]
}