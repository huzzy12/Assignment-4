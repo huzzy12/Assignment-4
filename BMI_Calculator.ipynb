{
  "nbformat": 4,
  "nbformat_minor": 0,
  "metadata": {
    "colab": {
      "provenance": [],
      "authorship_tag": "ABX9TyNCkTDHrk9XisCpBihkJKDs",
      "include_colab_link": true
    },
    "kernelspec": {
      "name": "python3",
      "display_name": "Python 3"
    },
    "language_info": {
      "name": "python"
    }
  },
  "cells": [
    {
      "cell_type": "markdown",
      "metadata": {
        "id": "view-in-github",
        "colab_type": "text"
      },
      "source": [
        "<a href=\"https://colab.research.google.com/github/huzzy12/Assignment-4/blob/main/BMI_Calculator.ipynb\" target=\"_parent\"><img src=\"https://colab.research.google.com/assets/colab-badge.svg\" alt=\"Open In Colab\"/></a>"
      ]
    },
    {
      "cell_type": "code",
      "execution_count": 1,
      "metadata": {
        "colab": {
          "base_uri": "https://localhost:8080/"
        },
        "id": "TZ83tIjvXFPx",
        "outputId": "0dbeece7-bfce-4015-8353-8ea059c820ed"
      },
      "outputs": [
        {
          "name": "stdout",
          "output_type": "stream",
          "text": [
            "Enter your weight in kilograms: 60\n",
            "Enter your height in meters: 144\n",
            "\n",
            "Your BMI is: 0.00\n",
            "Interpretation: Underweight\n",
            "\n",
            "Calculate another BMI? (yes/no): yes\n",
            "Enter your weight in kilograms: 58\n",
            "Enter your height in meters: 1.7\n",
            "\n",
            "Your BMI is: 20.07\n",
            "Interpretation: Normal weight\n",
            "\n",
            "Calculate another BMI? (yes/no): no\n"
          ]
        }
      ],
      "source": [
        "# prompt: Build an interactive BMI calculator with python.\n",
        "\n",
        "def calculate_bmi(weight, height):\n",
        "  \"\"\"Calculates the Body Mass Index (BMI).\"\"\"\n",
        "  try:\n",
        "    bmi = weight / (height ** 2)\n",
        "    return bmi\n",
        "  except ZeroDivisionError:\n",
        "    return \"Invalid input: Height cannot be zero.\"\n",
        "\n",
        "def interpret_bmi(bmi):\n",
        "  \"\"\"Interprets the BMI value.\"\"\"\n",
        "  if isinstance(bmi, str):  # Handle potential errors from calculate_bmi\n",
        "      return bmi\n",
        "  elif bmi < 18.5:\n",
        "    return \"Underweight\"\n",
        "  elif 18.5 <= bmi < 25:\n",
        "    return \"Normal weight\"\n",
        "  elif 25 <= bmi < 30:\n",
        "    return \"Overweight\"\n",
        "  else:\n",
        "    return \"Obese\"\n",
        "\n",
        "def main():\n",
        "  \"\"\"Runs the interactive BMI calculator.\"\"\"\n",
        "  while True:\n",
        "    try:\n",
        "      weight = float(input(\"Enter your weight in kilograms: \"))\n",
        "      height = float(input(\"Enter your height in meters: \"))\n",
        "      if weight <= 0 or height <= 0:\n",
        "        print(\"Weight and height must be positive values.\")\n",
        "        continue\n",
        "\n",
        "      bmi = calculate_bmi(weight, height)\n",
        "      interpretation = interpret_bmi(bmi)\n",
        "\n",
        "      print(f\"\\nYour BMI is: {bmi:.2f}\")\n",
        "      print(f\"Interpretation: {interpretation}\")\n",
        "\n",
        "      another_calculation = input(\"\\nCalculate another BMI? (yes/no): \").lower()\n",
        "      if another_calculation != 'yes':\n",
        "        break\n",
        "\n",
        "    except ValueError:\n",
        "      print(\"Invalid input. Please enter numeric values for weight and height.\")\n",
        "\n",
        "if __name__ == \"__main__\":\n",
        "  main()\n"
      ]
    }
  ]
}