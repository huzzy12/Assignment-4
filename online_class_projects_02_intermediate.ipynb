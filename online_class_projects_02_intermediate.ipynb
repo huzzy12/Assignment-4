{
  "nbformat": 4,
  "nbformat_minor": 0,
  "metadata": {
    "colab": {
      "provenance": [],
      "include_colab_link": true
    },
    "kernelspec": {
      "name": "python3",
      "display_name": "Python 3"
    },
    "language_info": {
      "name": "python"
    }
  },
  "cells": [
    {
      "cell_type": "markdown",
      "metadata": {
        "id": "view-in-github",
        "colab_type": "text"
      },
      "source": [
        "<a href=\"https://colab.research.google.com/github/huzzy12/Assignment-4/blob/main/online_class_projects_02_intermediate.ipynb\" target=\"_parent\"><img src=\"https://colab.research.google.com/assets/colab-badge.svg\" alt=\"Open In Colab\"/></a>"
      ]
    },
    {
      "cell_type": "code",
      "execution_count": null,
      "metadata": {
        "colab": {
          "base_uri": "https://localhost:8080/"
        },
        "id": "-CdozKaxCuww",
        "outputId": "70f713d2-3cf0-4d02-8bf9-0a583fc07e95"
      },
      "outputs": [
        {
          "output_type": "stream",
          "name": "stdout",
          "text": [
            "High Low Game\n",
            "Welcome to the High Low Game\n",
            "*****************************\n",
            "Round 1\n",
            "Your number is 88\n",
            "Do you think your number is higher or lower than the computer's number? lower\n",
            "You were right! The computer's number was 98\n",
            "Your score is now 1\n",
            "\n",
            "Round 2\n",
            "Your number is 72\n"
          ]
        }
      ],
      "source": [
        "import random\n",
        "print(\"High Low Game\")\n",
        "\n",
        "round = 5\n",
        "\n",
        "def main():\n",
        "  print(\"Welcome to the High Low Game\")\n",
        "  print(\"*****************************\")\n",
        "\n",
        "  your_score = 0\n",
        "\n",
        "  for i in range(round):\n",
        "    print(\"Round\", i + 1)\n",
        "\n",
        "    computer_number : int = random.randint(1,100)\n",
        "    your_number:int = random.randint(1,100)\n",
        "    print(\"Your number is\" , your_number)\n",
        "\n",
        "    choice:str = input(\"\"\"Do you think your number is higher or lower than the computer's number? \"\"\")\n",
        "    higher_and_correct:bool = choice == \"higher\" and your_number > computer_number\n",
        "    lower_and_correct:bool = choice == \"lower\" and your_number < computer_number\n",
        "\n",
        "    if higher_and_correct or lower_and_correct:\n",
        "      print(\"You were right! The computer\\'s number was\",computer_number)\n",
        "      your_score += 1\n",
        "    else:\n",
        "      print(\"That\\'s incorrect.The computer\\'s number was\",computer_number)\n",
        "\n",
        "    print(\"Your score is now\",your_score)\n",
        "    print()\n",
        "\n",
        "  print(\"Thanks for playing!\")\n",
        "\n",
        "\n",
        "if __name__ == \"__main__\":\n",
        "  main()\n"
      ]
    },
    {
      "cell_type": "code",
      "source": [
        "def main():\n",
        "  print(\"Welcome to the Planetary Weight Calculator\")\n",
        "  print(\"******************************************\")\n",
        "\n",
        "earth_weight = float(input(\"Enter your weight on Earth: \"))\n",
        "\n",
        "gravity_ratios = {\n",
        "    \"Mercury\":0.38,\n",
        "    \"Venus\":0.91,\n",
        "    \"Mars\":0.38,\n",
        "    \"Jupiter\":2.34,\n",
        "    \"Saturn\":1.06,\n",
        "    \"Uranus\":0.92,\n",
        "    \"Neptune\":1.19\n",
        "}\n",
        "\n",
        "print(\"\\n Select a planet\")\n",
        "for planet in gravity_ratios:\n",
        "    print(f'- {planet}')\n",
        "\n",
        "planet_choice = input(\"Enter the name of the planet: \").title()\n",
        "\n",
        "if planet_choice in gravity_ratios:\n",
        "    new_weight = earth_weight * gravity_ratios[planet_choice]\n",
        "    print(f'Your weight on {planet_choice} is {new_weight:.2f}kg')\n",
        "else:\n",
        "  print(\"Invalid planet choice\")\n",
        "  if __name__ == \"__main__\":\n",
        "   main()\n"
      ],
      "metadata": {
        "colab": {
          "base_uri": "https://localhost:8080/"
        },
        "id": "TO6CKg3gDzCX",
        "outputId": "c83cf419-9929-43f9-8771-61e04bec5bda"
      },
      "execution_count": 2,
      "outputs": [
        {
          "output_type": "stream",
          "name": "stdout",
          "text": [
            "Enter your weight on Earth: 58\n",
            "\n",
            " Select a planet\n",
            "- Mercury\n",
            "- Venus\n",
            "- Mars\n",
            "- Jupiter\n",
            "- Saturn\n",
            "- Uranus\n",
            "- Neptune\n",
            "Enter the name of the planet: Mars\n",
            "Your weight on Mars is 22.04kg\n"
          ]
        }
      ]
    },
    {
      "cell_type": "code",
      "source": [
        "print(\"Lists and Dicts\")\n",
        "\n",
        "my_list = [\"apple\",\"mango\",\"orange\",\"pear\",\"peach\"]\n",
        "\n",
        "def access_element(my_list,index):\n",
        "  \"\"\"Returns the element at the specified index, or an error message if out of range.\"\"\"\n",
        "  if 0 <= index < len(my_list):\n",
        "    return f'Element at index {index}: {my_list[index]}'\n",
        "  return \"Index out of range\"\n",
        "\n",
        "def modify_element(my_list,index,new_value):\n",
        "  \"\"\"Modifies the element at the specified index with the new value.\"\"\"\n",
        "  if 0 <= index < len(my_list):\n",
        "    old_value = my_list[index]\n",
        "    my_list[index] = new_value\n",
        "    return f'Element at index {index} modified from {old_value} to {new_value}'\n",
        "  return \"Index out of range\"\n",
        "def slice_list(my_list,start,end):\n",
        "  \"\"\"Returns a new list containing the elements from the start index to the end index (exclusive).\"\"\"\n",
        "  if 0 <= start < len(my_list) and 0 <= end <= len(my_list):\n",
        "    return f'Sliced list: {my_list[start:end]}'\n",
        "  return(\"Invalid slice indicates!\")\n",
        "\n",
        "def list_game():\n",
        "  print(\"\\n Welcome to the list maniputlation\")\n",
        "\n",
        "my_list = [\"apple\",\"mango\",\"orange\",\"pear\",\"peach\"]\n",
        "while True:\n",
        "    print(\"Current list \" , my_list)\n",
        "\n",
        "    print(\"Select an operation\")\n",
        "    print(\"1. Access Element\")\n",
        "    print(\"2. Modify Element\")\n",
        "    print(\"3. Slice List\")\n",
        "    print(\"4. Quit\")\n",
        "\n",
        "    choice = input(\"Enter your choice (1-4): \")\n",
        "    if choice == \"1\":\n",
        "        index = int(input(\"Enter the index of the element you want to access: \"))\n",
        "        print(access_element(my_list,index))\n",
        "    elif choice == \"2\":\n",
        "        index = int(input(\"Enter the index of the element you want to modify: \"))\n",
        "        new_value = input(\"Enter the new value for the element: \")\n",
        "        print(modify_element(my_list,index,new_value))\n",
        "    elif choice == \"3\":\n",
        "        start = int(input(\"Enter the start index for the slice: \"))\n",
        "        end = int(input(\"Enter the end index for the slice: \"))\n",
        "        print(slice_list(my_list,start,end))\n",
        "    elif choice == \"4\":\n",
        "        print(\"Exiting the game,Thanks for playing.\")\n",
        "        break\n",
        "    else:\n",
        "        print(\"Invalid choice! please enter a number between i to 4.\")\n",
        "\n",
        "\n",
        "if __name__ == \"__main__\":\n",
        "    list_game()"
      ],
      "metadata": {
        "colab": {
          "base_uri": "https://localhost:8080/"
        },
        "id": "Qu6BjY1gIuK3",
        "outputId": "42ba868c-d3a6-4e67-9ffb-0c3dd9bfdd7a"
      },
      "execution_count": 3,
      "outputs": [
        {
          "output_type": "stream",
          "name": "stdout",
          "text": [
            "Lists and Dicts\n",
            "Current list  ['apple', 'mango', 'orange', 'pear', 'peach']\n",
            "Select an operation\n",
            "1. Access Element\n",
            "2. Modify Element\n",
            "3. Slice List\n",
            "4. Quit\n",
            "Enter your choice (1-4): 3\n",
            "Enter the start index for the slice: 2\n",
            "Enter the end index for the slice: 3\n",
            "Sliced list: ['orange']\n",
            "Current list  ['apple', 'mango', 'orange', 'pear', 'peach']\n",
            "Select an operation\n",
            "1. Access Element\n",
            "2. Modify Element\n",
            "3. Slice List\n",
            "4. Quit\n",
            "Enter your choice (1-4): 4\n",
            "Exiting the game,Thanks for playing.\n",
            "\n",
            " Welcome to the list maniputlation\n"
          ]
        }
      ]
    }
  ]
}