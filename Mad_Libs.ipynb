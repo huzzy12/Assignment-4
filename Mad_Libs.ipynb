{
  "nbformat": 4,
  "nbformat_minor": 0,
  "metadata": {
    "colab": {
      "provenance": [],
      "authorship_tag": "ABX9TyMgiWJyOhb5l/JXBkF4WMgY",
      "include_colab_link": true
    },
    "kernelspec": {
      "name": "python3",
      "display_name": "Python 3"
    },
    "language_info": {
      "name": "python"
    }
  },
  "cells": [
    {
      "cell_type": "markdown",
      "metadata": {
        "id": "view-in-github",
        "colab_type": "text"
      },
      "source": [
        "<a href=\"https://colab.research.google.com/github/huzzy12/Assignment-4/blob/main/Mad_Libs.ipynb\" target=\"_parent\"><img src=\"https://colab.research.google.com/assets/colab-badge.svg\" alt=\"Open In Colab\"/></a>"
      ]
    },
    {
      "cell_type": "code",
      "execution_count": null,
      "metadata": {
        "colab": {
          "base_uri": "https://localhost:8080/"
        },
        "id": "2yHBHGSfRTXG",
        "outputId": "39d3737e-04ba-4e08-9043-a902fd9c437a"
      },
      "outputs": [
        {
          "output_type": "stream",
          "name": "stdout",
          "text": [
            "\n",
            "Mad Libs Game\n",
            "1. Generate a story\n",
            "2. Save the current story\n",
            "3. View saved stories\n",
            "4. Exit\n",
            "Enter your choice: 1\n",
            "Enter a adjective (plural if applicable): winner\n",
            "Enter a noun (plural if applicable): robot\n",
            "Enter a verb (plural if applicable): fighting\n",
            "Enter a adverb (plural if applicable): fiercely\n",
            "Enter a name: synthoman\n",
            "\n",
            "Generated Story:\n",
            " A winner wizard named synthoman lived in a winner castle. Their magical robot helped them fighting fiercely and fighting fiercely. Suddenly, a unicorn appeared!\n",
            "\n",
            "Mad Libs Game\n",
            "1. Generate a story\n",
            "2. Save the current story\n",
            "3. View saved stories\n",
            "4. Exit\n",
            "Enter your choice: 3\n",
            "No stories saved yet.\n",
            "\n",
            "Mad Libs Game\n",
            "1. Generate a story\n",
            "2. Save the current story\n",
            "3. View saved stories\n",
            "4. Exit\n",
            "Enter your choice: 2\n",
            "Story saved!\n",
            "\n",
            "Mad Libs Game\n",
            "1. Generate a story\n",
            "2. Save the current story\n",
            "3. View saved stories\n",
            "4. Exit\n",
            "Enter your choice: 3\n",
            "\n",
            "Story 1:\n",
            "A winner wizard named synthoman lived in a winner castle. Their magical robot helped them fighting fiercely and fighting fiercely. Suddenly, a unicorn appeared!\n",
            "\n",
            "Mad Libs Game\n",
            "1. Generate a story\n",
            "2. Save the current story\n",
            "3. View saved stories\n",
            "4. Exit\n"
          ]
        }
      ],
      "source": [
        "import random\n",
        "\n",
        "# Story templates\n",
        "story_templates = [\n",
        "    \"Once upon a time, there was a {adjective} {noun} who could {verb} with a {adjective} {noun}. One day, they discovered a magical {noun} that could {verb} {adverb}.\",\n",
        "    \"In a faraway land, a {adjective} {noun} and a {adjective} {noun} embarked on an adventure. With a magical {noun} in hand, they faced a {adjective} {noun} and {verb} {adverb} towards their goal.\",\n",
        "    \"A {adjective} wizard named {name} lived in a {adjective} castle. Their magical {noun} helped them {verb} {adverb} and {verb} {adverb}.\",\n",
        "]\n",
        "\n",
        "# Magical elements\n",
        "magical_elements = [\"dragon\", \"unicorn\", \"fairy\", \"wizard\", \"potion\", \"spell\", \"amulet\"]\n",
        "\n",
        "\n",
        "def generate_story():\n",
        "    template = random.choice(story_templates)\n",
        "    words = {}\n",
        "\n",
        "    for part_of_speech in [\"adjective\", \"noun\", \"verb\", \"adverb\", \"name\"]:\n",
        "      if part_of_speech == \"name\":\n",
        "        words[part_of_speech] = input(f\"Enter a {part_of_speech}: \")\n",
        "      else:\n",
        "        words[part_of_speech] = input(f\"Enter a {part_of_speech} (plural if applicable): \")\n",
        "\n",
        "    story = template.format(**words)\n",
        "\n",
        "    #Add a magical element\n",
        "    magical_element = random.choice(magical_elements)\n",
        "    story += f\" Suddenly, a {magical_element} appeared!\"\n",
        "    return story\n",
        "\n",
        "def save_story(story, saved_stories):\n",
        "  saved_stories.append(story)\n",
        "  print(\"Story saved!\")\n",
        "\n",
        "def view_saved_stories(saved_stories):\n",
        "  if not saved_stories:\n",
        "    print(\"No stories saved yet.\")\n",
        "  else:\n",
        "    for i, story in enumerate(saved_stories):\n",
        "      print(f\"\\nStory {i+1}:\\n{story}\")\n",
        "\n",
        "\n",
        "saved_stories = []\n",
        "\n",
        "while True:\n",
        "    print(\"\\nMad Libs Game\")\n",
        "    print(\"1. Generate a story\")\n",
        "    print(\"2. Save the current story\")\n",
        "    print(\"3. View saved stories\")\n",
        "    print(\"4. Exit\")\n",
        "\n",
        "    choice = input(\"Enter your choice: \")\n",
        "\n",
        "    if choice == \"1\":\n",
        "        new_story = generate_story()\n",
        "        print(\"\\nGenerated Story:\\n\", new_story)\n",
        "\n",
        "    elif choice == \"2\":\n",
        "        if 'new_story' in locals():\n",
        "          save_story(new_story, saved_stories)\n",
        "        else:\n",
        "          print(\"Generate a story first!\")\n",
        "\n",
        "    elif choice == \"3\":\n",
        "        view_saved_stories(saved_stories)\n",
        "\n",
        "    elif choice == \"4\":\n",
        "        print(\"Exiting...\")\n",
        "        break\n",
        "    else:\n",
        "        print(\"Invalid choice. Please try again.\")\n"
      ]
    }
  ]
}