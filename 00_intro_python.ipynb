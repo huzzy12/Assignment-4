{
  "nbformat": 4,
  "nbformat_minor": 0,
  "metadata": {
    "colab": {
      "provenance": [],
      "include_colab_link": true
    },
    "kernelspec": {
      "name": "python3",
      "display_name": "Python 3"
    },
    "language_info": {
      "name": "python"
    }
  },
  "cells": [
    {
      "cell_type": "markdown",
      "metadata": {
        "id": "view-in-github",
        "colab_type": "text"
      },
      "source": [
        "<a href=\"https://colab.research.google.com/github/huzzy12/Assignment-4/blob/main/00_intro_python.ipynb\" target=\"_parent\"><img src=\"https://colab.research.google.com/assets/colab-badge.svg\" alt=\"Open In Colab\"/></a>"
      ]
    },
    {
      "cell_type": "code",
      "execution_count": null,
      "metadata": {
        "colab": {
          "base_uri": "https://localhost:8080/"
        },
        "id": "aElfTI0azbnK",
        "outputId": "38be87b3-c34c-4f8e-d6ca-1bcac382a43d"
      },
      "outputs": [
        {
          "output_type": "stream",
          "name": "stdout",
          "text": [
            "01_add_two_numbers\n",
            "This application is to add two numbers\n",
            "Enter your first number. 872\n",
            "Enter your second nunber. 259\n",
            "The total sum of 872 and 259 is 1131\n"
          ]
        }
      ],
      "source": [
        "print(\"01_add_two_numbers\")\n",
        "\n",
        "def add():\n",
        "  print(\"This application is to add two numbers\")\n",
        "  first_number = int(input(\"Enter your first number. \"))\n",
        "  second_number = int(input(\"Enter your second nunber. \"))\n",
        "  total = int(first_number + second_number)\n",
        "  print(f'The total sum of {first_number} and {second_number} is {total}')\n",
        "\n",
        "if __name__ == \"__main__\":\n",
        "  add()"
      ]
    },
    {
      "cell_type": "code",
      "source": [
        "print(\"02_agreement_bot\")\n",
        "\n",
        "def bot():\n",
        "  animal = str(input(\"what's your favorite animal? \"))\n",
        "  print(f'My favorite animal is also {animal}!')\n",
        "\n",
        "if __name__ == \"__main__\":\n",
        "  bot()"
      ],
      "metadata": {
        "colab": {
          "base_uri": "https://localhost:8080/"
        },
        "id": "i95_tjyH16Yx",
        "outputId": "f8ac0a10-26a5-4c9a-e921-2d47862d9130"
      },
      "execution_count": null,
      "outputs": [
        {
          "output_type": "stream",
          "name": "stdout",
          "text": [
            "02_agreement_bot\n",
            "what's your favorite animal? horse\n",
            "My favorite animal is also horse!\n"
          ]
        }
      ]
    },
    {
      "cell_type": "code",
      "source": [
        "def convert_fahrenheit_to_celsius():\n",
        "    \"\"\"Converts Fahrenheit to Celsius.\"\"\"\n",
        "\n",
        "    try:\n",
        "        fahrenheit = float(input(\"Enter temperature in Fahrenheit: \"))\n",
        "        celsius = (fahrenheit - 32) * 5.0 / 9.0\n",
        "        print(f\"Temperature: {fahrenheit}F = {celsius}C\")\n",
        "    except ValueError:\n",
        "        print(\"Invalid input. Please enter a valid number.\")\n",
        "\n",
        "if __name__ == \"__main__\":\n",
        "    convert_fahrenheit_to_celsius()\n"
      ],
      "metadata": {
        "colab": {
          "base_uri": "https://localhost:8080/"
        },
        "id": "Cslj9WSX2OTr",
        "outputId": "4d3ea5a8-946d-4888-eb74-32b9307515d3"
      },
      "execution_count": null,
      "outputs": [
        {
          "output_type": "stream",
          "name": "stdout",
          "text": [
            "Enter temperature in Fahrenheit: 78.06\n",
            "Temperature: 78.06F = 25.58888888888889C\n"
          ]
        }
      ]
    },
    {
      "cell_type": "code",
      "source": [
        "anton_age = 21\n",
        "beth_age = anton_age + 6\n",
        "chen_age = beth_age + 20\n",
        "drew_age = chen_age + anton_age\n",
        "ethan_age = chen_age\n",
        "\n",
        "print(\"Anton is\", anton_age)\n",
        "print(\"Beth is\", beth_age)\n",
        "print(\"Chen is\", chen_age)\n",
        "print(\"Drew is\", drew_age)\n",
        "print(\"Ethan is\", ethan_age)\n"
      ],
      "metadata": {
        "colab": {
          "base_uri": "https://localhost:8080/"
        },
        "id": "kCtH3MNJ3API",
        "outputId": "23698e65-7100-4795-ee32-67fdaf4c8f55"
      },
      "execution_count": null,
      "outputs": [
        {
          "output_type": "stream",
          "name": "stdout",
          "text": [
            "Anton is 21\n",
            "Beth is 27\n",
            "Chen is 47\n",
            "Drew is 68\n",
            "Ethan is 47\n"
          ]
        }
      ]
    },
    {
      "cell_type": "code",
      "source": [
        "def main():\n",
        "    # Get the 3 side lengths of the triangle\n",
        "    side1: float = float(input(\"What is the length of side 1? \"))\n",
        "    side2: float = float(input(\"What is the length of side 2? \"))\n",
        "    side3: float = float(input(\"What is the length of side 3? \"))\n",
        "\n",
        "    # Print out the perimeter (sum of the sides) of the triangle, make sure to cast it to a str when concatenating!\n",
        "    print(\"The perimeter of the triangle is \" + str(side1 + side2 + side3))\n",
        "\n",
        "\n",
        "# There is no need to edit code beyond this point\n",
        "\n",
        "if __name__ == '__main__':\n",
        "    main()"
      ],
      "metadata": {
        "colab": {
          "base_uri": "https://localhost:8080/"
        },
        "id": "BZY9I6CM4ANW",
        "outputId": "06a7cc05-f27f-4132-ffc4-d9d11bffeea7"
      },
      "execution_count": null,
      "outputs": [
        {
          "output_type": "stream",
          "name": "stdout",
          "text": [
            "What is the length of side 1? 3\n",
            "What is the length of side 2? 2\n",
            "What is the length of side 3? 6\n",
            "The perimeter of the triangle is 11.0\n"
          ]
        }
      ]
    },
    {
      "cell_type": "code",
      "source": [
        "def square_number():\n",
        "    \"\"\"Asks the user for a number and prints its square.\"\"\"\n",
        "\n",
        "    try:\n",
        "        number = float(input(\"Type a number to see its square: \"))\n",
        "        square = number * number\n",
        "        print(f\"{number} squared is {square}\")\n",
        "    except ValueError:\n",
        "        print(\"Invalid input. Please enter a valid number.\")\n",
        "\n",
        "if __name__ == \"__main__\":\n",
        "    square_number()\n"
      ],
      "metadata": {
        "colab": {
          "base_uri": "https://localhost:8080/"
        },
        "id": "WYxk4Mdj4eob",
        "outputId": "88eabf31-d1cc-4b02-f2c5-e74055c331ff"
      },
      "execution_count": null,
      "outputs": [
        {
          "output_type": "stream",
          "name": "stdout",
          "text": [
            "Type a number to see its square: 5\n",
            "5.0 squared is 25.0\n"
          ]
        }
      ]
    },
    {
      "cell_type": "markdown",
      "source": [],
      "metadata": {
        "id": "AKQSb6ny0nPx"
      }
    }
  ]
}